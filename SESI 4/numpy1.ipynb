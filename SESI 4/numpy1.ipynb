{
 "cells": [
  {
   "cell_type": "code",
   "execution_count": 2,
   "source": [
    "import numpy as np\r\n",
    "\r\n",
    "a = np.array([0, 1, 2, 3, 4, 8])   ####  List \r\n",
    "print(a)\r\n",
    "\r\n",
    "print(np.arange(10))\r\n",
    "\r\n",
    "print(np.append(a,[1,2]))\r\n",
    "\r\n",
    "a=np.delete(a,1)\r\n",
    "print(a)\r\n",
    "\r\n",
    "a=np.sort(a)\r\n",
    "print(a)"
   ],
   "outputs": [
    {
     "output_type": "stream",
     "name": "stdout",
     "text": [
      "[0 1 2 3 4 8]\n",
      "[0 1 2 3 4 5 6 7 8 9]\n",
      "[0 1 2 3 4 8 1 2]\n",
      "[0 2 3 4 8]\n",
      "[0 2 3 4 8]\n"
     ]
    }
   ],
   "metadata": {}
  },
  {
   "cell_type": "code",
   "execution_count": 3,
   "source": [
    "ex = np.array([[[1,2,3,4], [5,6,7,8]],\r\n",
    "[[9,10,11,12], [13,14,15,16]],\r\n",
    "[[17,18,19,20], [21,22,23,24]]])\r\n",
    "\r\n",
    "print(ex)\r\n",
    "\r\n",
    "print(ex.ndim)\r\n",
    "print(ex.size)\r\n",
    "print(ex.shape)"
   ],
   "outputs": [
    {
     "output_type": "stream",
     "name": "stdout",
     "text": [
      "[[[ 1  2  3  4]\n",
      "  [ 5  6  7  8]]\n",
      "\n",
      " [[ 9 10 11 12]\n",
      "  [13 14 15 16]]\n",
      "\n",
      " [[17 18 19 20]\n",
      "  [21 22 23 24]]]\n",
      "3\n",
      "24\n",
      "(3, 2, 4)\n"
     ]
    }
   ],
   "metadata": {}
  },
  {
   "cell_type": "code",
   "execution_count": 5,
   "source": [
    "ex=np.array([1,2,3,4,5,6,7,8,9,10,11,12,13,14,15,16,17,18,19,20,21,22,23,24])\r\n",
    "\r\n",
    "print(ex)\r\n",
    "print(ex.reshape(3,2,4))"
   ],
   "outputs": [
    {
     "output_type": "stream",
     "name": "stdout",
     "text": [
      "[ 1  2  3  4  5  6  7  8  9 10 11 12 13 14 15 16 17 18 19 20 21 22 23 24]\n",
      "[[[ 1  2  3  4]\n",
      "  [ 5  6  7  8]]\n",
      "\n",
      " [[ 9 10 11 12]\n",
      "  [13 14 15 16]]\n",
      "\n",
      " [[17 18 19 20]\n",
      "  [21 22 23 24]]]\n"
     ]
    }
   ],
   "metadata": {}
  },
  {
   "cell_type": "code",
   "execution_count": 7,
   "source": [
    "ex=np.array([1,2,3,4,5,6,7,8,9,10,11])\r\n",
    "print(ex.shape)\r\n",
    "\r\n",
    "ex2=ex[np.newaxis]\r\n",
    "print(ex2.shape)\r\n",
    "print(ex2)\r\n",
    "\r\n",
    "ex3=ex[:, np.newaxis]\r\n",
    "print(ex3.shape)\r\n",
    "print(ex3)\r\n",
    "\r\n",
    "ex4=np.expand_dims(ex, axis=0)\r\n",
    "print(ex4.shape)\r\n",
    "print(ex4)\r\n"
   ],
   "outputs": [
    {
     "output_type": "stream",
     "name": "stdout",
     "text": [
      "(11,)\n",
      "(1, 11)\n",
      "[[ 1  2  3  4  5  6  7  8  9 10 11]]\n",
      "(11, 1)\n",
      "[[ 1]\n",
      " [ 2]\n",
      " [ 3]\n",
      " [ 4]\n",
      " [ 5]\n",
      " [ 6]\n",
      " [ 7]\n",
      " [ 8]\n",
      " [ 9]\n",
      " [10]\n",
      " [11]]\n",
      "(1, 11)\n",
      "[[ 1  2  3  4  5  6  7  8  9 10 11]]\n"
     ]
    }
   ],
   "metadata": {}
  },
  {
   "cell_type": "code",
   "execution_count": 9,
   "source": [
    "a1=np.array([[11,12,13,14],[15,16,17,18],[19,20,21,22],[23,24,25,26],[27,28,29,30]])\r\n",
    "\r\n",
    "print(a1)\r\n",
    "print(a1[a1>=13])\r\n",
    "a2=(a1>=10)\r\n",
    "print(a1[a2])\r\n",
    "print(a1[a1%2==1])\r\n",
    "print(a1[a1%2==0])\r\n",
    "\r\n",
    "a3=np.array([1,2,3,4,5,6,7,8,9,10])\r\n",
    "aa=a3[5:7]\r\n",
    "print(aa)"
   ],
   "outputs": [
    {
     "output_type": "stream",
     "name": "stdout",
     "text": [
      "[[11 12 13 14]\n",
      " [15 16 17 18]\n",
      " [19 20 21 22]\n",
      " [23 24 25 26]\n",
      " [27 28 29 30]]\n",
      "[13 14 15 16 17 18 19 20 21 22 23 24 25 26 27 28 29 30]\n",
      "[11 12 13 14 15 16 17 18 19 20 21 22 23 24 25 26 27 28 29 30]\n",
      "[11 13 15 17 19 21 23 25 27 29]\n",
      "[12 14 16 18 20 22 24 26 28 30]\n",
      "[6 7]\n"
     ]
    }
   ],
   "metadata": {}
  },
  {
   "cell_type": "code",
   "execution_count": null,
   "source": [
    "a1=np.array([[1,1],[2,2]])\r\n",
    "a2=np.array([[3,3],[4,4]])\r\n",
    "print(a1)\r\n",
    "print(a2)\r\n",
    "print(np.vstack((a1,a2)))\r\n",
    "print(np.hstack((a1,a2)))\r\n",
    "print()\r\n",
    "print()\r\n",
    "print()\r\n",
    "\r\n",
    "x1=np.array([1,2,3,4,5,6,7,8,9,10,11,12,13,14,15,16,17,18,19,20,21,22,23,24])\r\n"
   ],
   "outputs": [],
   "metadata": {}
  }
 ],
 "metadata": {
  "orig_nbformat": 4,
  "language_info": {
   "name": "python",
   "version": "3.9.6",
   "mimetype": "text/x-python",
   "codemirror_mode": {
    "name": "ipython",
    "version": 3
   },
   "pygments_lexer": "ipython3",
   "nbconvert_exporter": "python",
   "file_extension": ".py"
  },
  "kernelspec": {
   "name": "python3",
   "display_name": "Python 3.9.6 64-bit"
  },
  "interpreter": {
   "hash": "c569cd2e17f62341e0f08a54f9a867c3c0d3a6f67454072d7de41a8b5dff8343"
  }
 },
 "nbformat": 4,
 "nbformat_minor": 2
}